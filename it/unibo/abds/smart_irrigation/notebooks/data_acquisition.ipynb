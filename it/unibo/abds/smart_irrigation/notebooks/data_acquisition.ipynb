{
  "nbformat": 4,
  "nbformat_minor": 0,
  "metadata": {
    "colab": {
      "name": "data_acquisition.ipynb",
      "provenance": [],
      "collapsed_sections": [],
      "authorship_tag": "ABX9TyM9JsyNb1sYVgpgOPna52U2",
      "include_colab_link": true
    },
    "kernelspec": {
      "name": "python3",
      "display_name": "Python 3"
    }
  },
  "cells": [
    {
      "cell_type": "markdown",
      "metadata": {
        "id": "view-in-github",
        "colab_type": "text"
      },
      "source": [
        "<a href=\"https://colab.research.google.com/github/josephgiovanelli/PPS-17-ese/blob/master/it/unibo/abds/smart_irrigation/notebooks/data_acquisition.ipynb\" target=\"_parent\"><img src=\"https://colab.research.google.com/assets/colab-badge.svg\" alt=\"Open In Colab\"/></a>"
      ]
    },
    {
      "cell_type": "code",
      "metadata": {
        "id": "wI7rqlfSPVD3",
        "outputId": "5ca4a7a0-c395-429f-b4df-aafd861fb447",
        "colab": {
          "base_uri": "https://localhost:8080/",
          "height": 34
        }
      },
      "source": [
        "# Defining tensorflow version\n",
        "%tensorflow_version 2.x\n",
        "import tensorflow\n",
        "print(tensorflow.__version__)"
      ],
      "execution_count": 11,
      "outputs": [
        {
          "output_type": "stream",
          "text": [
            "2.3.0\n"
          ],
          "name": "stdout"
        }
      ]
    },
    {
      "cell_type": "code",
      "metadata": {
        "id": "TKz-zklAPuZw"
      },
      "source": [
        "# Importing main libraries\n",
        "import numpy as np\n",
        "import pandas as pd\n",
        "import matplotlib.pyplot as plt"
      ],
      "execution_count": 12,
      "outputs": []
    },
    {
      "cell_type": "code",
      "metadata": {
        "id": "lVlyffKPP2Dw",
        "outputId": "3ca81a2a-d67d-4214-c51c-95207f9706ae",
        "colab": {
          "resources": {
            "http://localhost:8080/nbextensions/google.colab/files.js": {
              "data": "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",
              "ok": true,
              "headers": [
                [
                  "content-type",
                  "application/javascript"
                ]
              ],
              "status": 200,
              "status_text": ""
            }
          },
          "base_uri": "https://localhost:8080/",
          "height": 72
        }
      },
      "source": [
        "# Importing the sql dump\n",
        "from google.colab import files\n",
        "uploaded = files.upload()"
      ],
      "execution_count": 13,
      "outputs": [
        {
          "output_type": "display_data",
          "data": {
            "text/html": [
              "\n",
              "     <input type=\"file\" id=\"files-d1fd219b-8bd6-4414-9d22-30f5929e58ac\" name=\"files[]\" multiple disabled\n",
              "        style=\"border:none\" />\n",
              "     <output id=\"result-d1fd219b-8bd6-4414-9d22-30f5929e58ac\">\n",
              "      Upload widget is only available when the cell has been executed in the\n",
              "      current browser session. Please rerun this cell to enable.\n",
              "      </output>\n",
              "      <script src=\"/nbextensions/google.colab/files.js\"></script> "
            ],
            "text/plain": [
              "<IPython.core.display.HTML object>"
            ]
          },
          "metadata": {
            "tags": []
          }
        },
        {
          "output_type": "stream",
          "text": [
            "Saving september.csv to september (3).csv\n"
          ],
          "name": "stdout"
        }
      ]
    },
    {
      "cell_type": "code",
      "metadata": {
        "id": "-EKr-dXUQOmZ",
        "outputId": "83460b5a-37bd-4ece-ddb2-b2648d079cb5",
        "colab": {
          "base_uri": "https://localhost:8080/",
          "height": 419
        }
      },
      "source": [
        "# Reading the sql dump\n",
        "data = pd.read_csv('september.csv')\n",
        "data"
      ],
      "execution_count": 14,
      "outputs": [
        {
          "output_type": "execute_result",
          "data": {
            "text/html": [
              "<div>\n",
              "<style scoped>\n",
              "    .dataframe tbody tr th:only-of-type {\n",
              "        vertical-align: middle;\n",
              "    }\n",
              "\n",
              "    .dataframe tbody tr th {\n",
              "        vertical-align: top;\n",
              "    }\n",
              "\n",
              "    .dataframe thead th {\n",
              "        text-align: right;\n",
              "    }\n",
              "</style>\n",
              "<table border=\"1\" class=\"dataframe\">\n",
              "  <thead>\n",
              "    <tr style=\"text-align: right;\">\n",
              "      <th></th>\n",
              "      <th>plantNum</th>\n",
              "      <th>yy</th>\n",
              "      <th>xx</th>\n",
              "      <th>unit</th>\n",
              "      <th>date</th>\n",
              "      <th>rounded_timestamp</th>\n",
              "      <th>aggregated_value</th>\n",
              "    </tr>\n",
              "  </thead>\n",
              "  <tbody>\n",
              "    <tr>\n",
              "      <th>0</th>\n",
              "      <td>1</td>\n",
              "      <td>-60.0</td>\n",
              "      <td>0.0</td>\n",
              "      <td>cbar</td>\n",
              "      <td>2020-09-01 00:00:00</td>\n",
              "      <td>1598911200</td>\n",
              "      <td>-78.711091</td>\n",
              "    </tr>\n",
              "    <tr>\n",
              "      <th>1</th>\n",
              "      <td>1</td>\n",
              "      <td>-60.0</td>\n",
              "      <td>30.0</td>\n",
              "      <td>cbar</td>\n",
              "      <td>2020-09-01 00:00:00</td>\n",
              "      <td>1598911200</td>\n",
              "      <td>-85.089666</td>\n",
              "    </tr>\n",
              "    <tr>\n",
              "      <th>2</th>\n",
              "      <td>1</td>\n",
              "      <td>-60.0</td>\n",
              "      <td>60.0</td>\n",
              "      <td>cbar</td>\n",
              "      <td>2020-09-01 00:00:00</td>\n",
              "      <td>1598911200</td>\n",
              "      <td>-58.067100</td>\n",
              "    </tr>\n",
              "    <tr>\n",
              "      <th>3</th>\n",
              "      <td>1</td>\n",
              "      <td>-60.0</td>\n",
              "      <td>90.0</td>\n",
              "      <td>cbar</td>\n",
              "      <td>2020-09-01 00:00:00</td>\n",
              "      <td>1598911200</td>\n",
              "      <td>-34.166775</td>\n",
              "    </tr>\n",
              "    <tr>\n",
              "      <th>4</th>\n",
              "      <td>1</td>\n",
              "      <td>-40.0</td>\n",
              "      <td>0.0</td>\n",
              "      <td>cbar</td>\n",
              "      <td>2020-09-01 00:00:00</td>\n",
              "      <td>1598911200</td>\n",
              "      <td>-80.806075</td>\n",
              "    </tr>\n",
              "    <tr>\n",
              "      <th>...</th>\n",
              "      <td>...</td>\n",
              "      <td>...</td>\n",
              "      <td>...</td>\n",
              "      <td>...</td>\n",
              "      <td>...</td>\n",
              "      <td>...</td>\n",
              "      <td>...</td>\n",
              "    </tr>\n",
              "    <tr>\n",
              "      <th>22185</th>\n",
              "      <td>2</td>\n",
              "      <td>-20.0</td>\n",
              "      <td>60.0</td>\n",
              "      <td>cbar</td>\n",
              "      <td>2020-10-01 00:00:00</td>\n",
              "      <td>1601586000</td>\n",
              "      <td>-267.875806</td>\n",
              "    </tr>\n",
              "    <tr>\n",
              "      <th>22186</th>\n",
              "      <td>2</td>\n",
              "      <td>-20.0</td>\n",
              "      <td>90.0</td>\n",
              "      <td>cbar</td>\n",
              "      <td>2020-10-01 00:00:00</td>\n",
              "      <td>1601586000</td>\n",
              "      <td>-21.616472</td>\n",
              "    </tr>\n",
              "    <tr>\n",
              "      <th>22187</th>\n",
              "      <td>2</td>\n",
              "      <td>NaN</td>\n",
              "      <td>NaN</td>\n",
              "      <td>°C</td>\n",
              "      <td>2020-10-01 00:00:00</td>\n",
              "      <td>1601586000</td>\n",
              "      <td>17.150000</td>\n",
              "    </tr>\n",
              "    <tr>\n",
              "      <th>22188</th>\n",
              "      <td>2</td>\n",
              "      <td>NaN</td>\n",
              "      <td>NaN</td>\n",
              "      <td>l</td>\n",
              "      <td>2020-10-01 00:00:00</td>\n",
              "      <td>1601586000</td>\n",
              "      <td>0.000000</td>\n",
              "    </tr>\n",
              "    <tr>\n",
              "      <th>22189</th>\n",
              "      <td>2</td>\n",
              "      <td>NaN</td>\n",
              "      <td>NaN</td>\n",
              "      <td>mm</td>\n",
              "      <td>2020-10-01 00:00:00</td>\n",
              "      <td>1601586000</td>\n",
              "      <td>0.000000</td>\n",
              "    </tr>\n",
              "  </tbody>\n",
              "</table>\n",
              "<p>22190 rows × 7 columns</p>\n",
              "</div>"
            ],
            "text/plain": [
              "       plantNum    yy  ...  rounded_timestamp aggregated_value\n",
              "0             1 -60.0  ...         1598911200       -78.711091\n",
              "1             1 -60.0  ...         1598911200       -85.089666\n",
              "2             1 -60.0  ...         1598911200       -58.067100\n",
              "3             1 -60.0  ...         1598911200       -34.166775\n",
              "4             1 -40.0  ...         1598911200       -80.806075\n",
              "...         ...   ...  ...                ...              ...\n",
              "22185         2 -20.0  ...         1601586000      -267.875806\n",
              "22186         2 -20.0  ...         1601586000       -21.616472\n",
              "22187         2   NaN  ...         1601586000        17.150000\n",
              "22188         2   NaN  ...         1601586000         0.000000\n",
              "22189         2   NaN  ...         1601586000         0.000000\n",
              "\n",
              "[22190 rows x 7 columns]"
            ]
          },
          "metadata": {
            "tags": []
          },
          "execution_count": 14
        }
      ]
    },
    {
      "cell_type": "code",
      "metadata": {
        "id": "Ky1xFxlCTdHn"
      },
      "source": [
        "# Defining constants\n",
        "X_START, X_STOP, X_STEP = 0, 90, 30\n",
        "Y_START, Y_STOP, Y_STEP = -60, -20, 20\n",
        "UNITS = {\"dripper\": \"l\", \"pluv_curr\": \"mm\", \"air_temp\": \"°C\", \"grnd_water\": \"cbar\"}\n",
        "\n",
        "# Each record reprensents a feature of the specified (plantNum, timestamp)\n",
        "# For each record, it has been created an ad-hoc column, with the name of the feature in question, and the value contained in aggregated_value\n",
        "for key in UNITS.keys():\n",
        "  if key == \"grnd_water\":\n",
        "    for y in range(Y_START, Y_STOP + 1, Y_STEP):\n",
        "      for x in range(X_START, X_STOP + 1, X_STEP):\n",
        "        data[key + \"_\" + str(-y) + \"_\" + str(x)] = data.apply(lambda df: df.aggregated_value if (UNITS[key] in df.unit and df.yy == y and df.xx == x) else np.nan , axis=1)\n",
        "  else:\n",
        "    data[key] = data.apply(lambda df: df.aggregated_value if UNITS[key] in df.unit else np.nan , axis=1)"
      ],
      "execution_count": 15,
      "outputs": []
    },
    {
      "cell_type": "code",
      "metadata": {
        "id": "svf2n3avk3-5",
        "outputId": "dd332756-3d8f-4412-bf98-0c883771cdd8",
        "colab": {
          "base_uri": "https://localhost:8080/",
          "height": 470
        }
      },
      "source": [
        "# Merging all the values related to a certain (plantNum, timestamp) tuple in one record\n",
        "data = data.groupby(by=[data.plantNum, data.rounded_timestamp]).max()\n",
        "\n",
        "# Dropping useless columns\n",
        "data = data.drop(['date', 'yy', 'xx', 'unit', 'aggregated_value'], axis=1)\n",
        "data"
      ],
      "execution_count": 16,
      "outputs": [
        {
          "output_type": "execute_result",
          "data": {
            "text/html": [
              "<div>\n",
              "<style scoped>\n",
              "    .dataframe tbody tr th:only-of-type {\n",
              "        vertical-align: middle;\n",
              "    }\n",
              "\n",
              "    .dataframe tbody tr th {\n",
              "        vertical-align: top;\n",
              "    }\n",
              "\n",
              "    .dataframe thead th {\n",
              "        text-align: right;\n",
              "    }\n",
              "</style>\n",
              "<table border=\"1\" class=\"dataframe\">\n",
              "  <thead>\n",
              "    <tr style=\"text-align: right;\">\n",
              "      <th></th>\n",
              "      <th></th>\n",
              "      <th>dripper</th>\n",
              "      <th>pluv_curr</th>\n",
              "      <th>air_temp</th>\n",
              "      <th>grnd_water_60_0</th>\n",
              "      <th>grnd_water_60_30</th>\n",
              "      <th>grnd_water_60_60</th>\n",
              "      <th>grnd_water_60_90</th>\n",
              "      <th>grnd_water_40_0</th>\n",
              "      <th>grnd_water_40_30</th>\n",
              "      <th>grnd_water_40_60</th>\n",
              "      <th>grnd_water_40_90</th>\n",
              "      <th>grnd_water_20_0</th>\n",
              "      <th>grnd_water_20_30</th>\n",
              "      <th>grnd_water_20_60</th>\n",
              "      <th>grnd_water_20_90</th>\n",
              "    </tr>\n",
              "    <tr>\n",
              "      <th>plantNum</th>\n",
              "      <th>rounded_timestamp</th>\n",
              "      <th></th>\n",
              "      <th></th>\n",
              "      <th></th>\n",
              "      <th></th>\n",
              "      <th></th>\n",
              "      <th></th>\n",
              "      <th></th>\n",
              "      <th></th>\n",
              "      <th></th>\n",
              "      <th></th>\n",
              "      <th></th>\n",
              "      <th></th>\n",
              "      <th></th>\n",
              "      <th></th>\n",
              "      <th></th>\n",
              "    </tr>\n",
              "  </thead>\n",
              "  <tbody>\n",
              "    <tr>\n",
              "      <th rowspan=\"5\" valign=\"top\">1</th>\n",
              "      <th>1598911200</th>\n",
              "      <td>0.0</td>\n",
              "      <td>0.0</td>\n",
              "      <td>15.770</td>\n",
              "      <td>-78.711091</td>\n",
              "      <td>-85.089666</td>\n",
              "      <td>-58.067100</td>\n",
              "      <td>-34.166775</td>\n",
              "      <td>-80.806075</td>\n",
              "      <td>-142.471111</td>\n",
              "      <td>-187.532000</td>\n",
              "      <td>-196.646505</td>\n",
              "      <td>-8.894995</td>\n",
              "      <td>-78.585560</td>\n",
              "      <td>-285.151264</td>\n",
              "      <td>-637.664231</td>\n",
              "    </tr>\n",
              "    <tr>\n",
              "      <th>1598914800</th>\n",
              "      <td>0.0</td>\n",
              "      <td>0.0</td>\n",
              "      <td>15.660</td>\n",
              "      <td>-78.711091</td>\n",
              "      <td>-85.089666</td>\n",
              "      <td>-58.067100</td>\n",
              "      <td>-34.166775</td>\n",
              "      <td>-79.782446</td>\n",
              "      <td>-142.471111</td>\n",
              "      <td>-188.237087</td>\n",
              "      <td>-195.942132</td>\n",
              "      <td>-8.607084</td>\n",
              "      <td>-77.455430</td>\n",
              "      <td>-285.151264</td>\n",
              "      <td>-639.883380</td>\n",
              "    </tr>\n",
              "    <tr>\n",
              "      <th>1598918400</th>\n",
              "      <td>0.0</td>\n",
              "      <td>0.0</td>\n",
              "      <td>15.335</td>\n",
              "      <td>-77.996775</td>\n",
              "      <td>-85.089666</td>\n",
              "      <td>-58.067100</td>\n",
              "      <td>-33.496610</td>\n",
              "      <td>-77.996775</td>\n",
              "      <td>-142.471111</td>\n",
              "      <td>-188.237087</td>\n",
              "      <td>-195.942132</td>\n",
              "      <td>-8.751039</td>\n",
              "      <td>-76.459395</td>\n",
              "      <td>-285.894470</td>\n",
              "      <td>-643.210776</td>\n",
              "    </tr>\n",
              "    <tr>\n",
              "      <th>1598922000</th>\n",
              "      <td>0.0</td>\n",
              "      <td>0.0</td>\n",
              "      <td>15.200</td>\n",
              "      <td>-77.282398</td>\n",
              "      <td>-85.089666</td>\n",
              "      <td>-58.067100</td>\n",
              "      <td>-33.496610</td>\n",
              "      <td>-77.282398</td>\n",
              "      <td>-142.471111</td>\n",
              "      <td>-188.237087</td>\n",
              "      <td>-195.942132</td>\n",
              "      <td>-8.894995</td>\n",
              "      <td>-75.164267</td>\n",
              "      <td>-285.894470</td>\n",
              "      <td>-645.783084</td>\n",
              "    </tr>\n",
              "    <tr>\n",
              "      <th>1598925600</th>\n",
              "      <td>0.0</td>\n",
              "      <td>0.0</td>\n",
              "      <td>14.795</td>\n",
              "      <td>-77.282398</td>\n",
              "      <td>-85.089666</td>\n",
              "      <td>-58.067100</td>\n",
              "      <td>-33.496610</td>\n",
              "      <td>-75.496188</td>\n",
              "      <td>-142.471111</td>\n",
              "      <td>-188.237087</td>\n",
              "      <td>-195.237700</td>\n",
              "      <td>-8.894995</td>\n",
              "      <td>-74.624643</td>\n",
              "      <td>-286.637608</td>\n",
              "      <td>-647.999801</td>\n",
              "    </tr>\n",
              "    <tr>\n",
              "      <th>...</th>\n",
              "      <th>...</th>\n",
              "      <td>...</td>\n",
              "      <td>...</td>\n",
              "      <td>...</td>\n",
              "      <td>...</td>\n",
              "      <td>...</td>\n",
              "      <td>...</td>\n",
              "      <td>...</td>\n",
              "      <td>...</td>\n",
              "      <td>...</td>\n",
              "      <td>...</td>\n",
              "      <td>...</td>\n",
              "      <td>...</td>\n",
              "      <td>...</td>\n",
              "      <td>...</td>\n",
              "      <td>...</td>\n",
              "    </tr>\n",
              "    <tr>\n",
              "      <th rowspan=\"5\" valign=\"top\">2</th>\n",
              "      <th>1601571600</th>\n",
              "      <td>0.0</td>\n",
              "      <td>0.0</td>\n",
              "      <td>18.395</td>\n",
              "      <td>-273.390271</td>\n",
              "      <td>-237.351085</td>\n",
              "      <td>-109.939480</td>\n",
              "      <td>-31.629445</td>\n",
              "      <td>-659.825825</td>\n",
              "      <td>-193.124043</td>\n",
              "      <td>-383.767474</td>\n",
              "      <td>-256.439470</td>\n",
              "      <td>-544.301201</td>\n",
              "      <td>-242.729499</td>\n",
              "      <td>-262.357623</td>\n",
              "      <td>-21.041212</td>\n",
              "    </tr>\n",
              "    <tr>\n",
              "      <th>1601575200</th>\n",
              "      <td>0.0</td>\n",
              "      <td>0.0</td>\n",
              "      <td>17.235</td>\n",
              "      <td>-273.762412</td>\n",
              "      <td>-237.351085</td>\n",
              "      <td>-109.939480</td>\n",
              "      <td>-31.629445</td>\n",
              "      <td>-663.498219</td>\n",
              "      <td>-193.124043</td>\n",
              "      <td>-380.876207</td>\n",
              "      <td>-254.994230</td>\n",
              "      <td>-546.850374</td>\n",
              "      <td>-244.195068</td>\n",
              "      <td>-265.664320</td>\n",
              "      <td>-21.041212</td>\n",
              "    </tr>\n",
              "    <tr>\n",
              "      <th>1601578800</th>\n",
              "      <td>0.0</td>\n",
              "      <td>0.0</td>\n",
              "      <td>18.090</td>\n",
              "      <td>-272.645921</td>\n",
              "      <td>-236.369797</td>\n",
              "      <td>-109.227782</td>\n",
              "      <td>-31.629445</td>\n",
              "      <td>-662.790430</td>\n",
              "      <td>-193.476349</td>\n",
              "      <td>-376.514228</td>\n",
              "      <td>-253.502068</td>\n",
              "      <td>-548.647410</td>\n",
              "      <td>-245.660244</td>\n",
              "      <td>-267.526672</td>\n",
              "      <td>-21.041212</td>\n",
              "    </tr>\n",
              "    <tr>\n",
              "      <th>1601582400</th>\n",
              "      <td>0.0</td>\n",
              "      <td>0.0</td>\n",
              "      <td>18.125</td>\n",
              "      <td>-272.645921</td>\n",
              "      <td>-235.435128</td>\n",
              "      <td>-109.227782</td>\n",
              "      <td>-31.629445</td>\n",
              "      <td>-660.578151</td>\n",
              "      <td>-192.419371</td>\n",
              "      <td>-372.150122</td>\n",
              "      <td>-251.263400</td>\n",
              "      <td>-548.424737</td>\n",
              "      <td>-245.660244</td>\n",
              "      <td>-268.224940</td>\n",
              "      <td>-21.616472</td>\n",
              "    </tr>\n",
              "    <tr>\n",
              "      <th>1601586000</th>\n",
              "      <td>0.0</td>\n",
              "      <td>0.0</td>\n",
              "      <td>17.150</td>\n",
              "      <td>-271.924635</td>\n",
              "      <td>-236.369797</td>\n",
              "      <td>-109.227782</td>\n",
              "      <td>-31.629445</td>\n",
              "      <td>-657.612656</td>\n",
              "      <td>-191.714639</td>\n",
              "      <td>-368.519084</td>\n",
              "      <td>-250.563680</td>\n",
              "      <td>-544.563134</td>\n",
              "      <td>-245.846248</td>\n",
              "      <td>-267.875806</td>\n",
              "      <td>-21.616472</td>\n",
              "    </tr>\n",
              "  </tbody>\n",
              "</table>\n",
              "<p>1488 rows × 15 columns</p>\n",
              "</div>"
            ],
            "text/plain": [
              "                            dripper  ...  grnd_water_20_90\n",
              "plantNum rounded_timestamp           ...                  \n",
              "1        1598911200             0.0  ...       -637.664231\n",
              "         1598914800             0.0  ...       -639.883380\n",
              "         1598918400             0.0  ...       -643.210776\n",
              "         1598922000             0.0  ...       -645.783084\n",
              "         1598925600             0.0  ...       -647.999801\n",
              "...                             ...  ...               ...\n",
              "2        1601571600             0.0  ...        -21.041212\n",
              "         1601575200             0.0  ...        -21.041212\n",
              "         1601578800             0.0  ...        -21.041212\n",
              "         1601582400             0.0  ...        -21.616472\n",
              "         1601586000             0.0  ...        -21.616472\n",
              "\n",
              "[1488 rows x 15 columns]"
            ]
          },
          "metadata": {
            "tags": []
          },
          "execution_count": 16
        }
      ]
    },
    {
      "cell_type": "code",
      "metadata": {
        "id": "jQh98HDrIdeW"
      },
      "source": [
        "HOUR_TO_SECONDS = 3600\n",
        "import statistics\n",
        "\n",
        "# Imputing missing values: each missing value is imputed by applying the mean between the values of the same feature but belonging to the hour before and the hour after\n",
        "for col in data.columns:\n",
        "  for index, row in data[data[col].isnull()].iterrows():\n",
        "    #print(data.loc[index, col])\n",
        "    data.loc[index, col] = statistics.mean([data.loc[(index[0], index[1] - HOUR_TO_SECONDS), col], data.loc[(index[0], index[1] - HOUR_TO_SECONDS), col]])\n",
        "    #print(data.loc[index, col])\n",
        "    #print()\n"
      ],
      "execution_count": 17,
      "outputs": []
    },
    {
      "cell_type": "code",
      "metadata": {
        "id": "6AWmGP1IWtgZ",
        "outputId": "5afbb67a-f071-4ecc-9aa3-5adac0cde4d4",
        "colab": {
          "base_uri": "https://localhost:8080/",
          "height": 34
        }
      },
      "source": [
        "# Checking if there is any NaN value left\n",
        "data.isnull().values.any()"
      ],
      "execution_count": 18,
      "outputs": [
        {
          "output_type": "execute_result",
          "data": {
            "text/plain": [
              "False"
            ]
          },
          "metadata": {
            "tags": []
          },
          "execution_count": 18
        }
      ]
    },
    {
      "cell_type": "code",
      "metadata": {
        "id": "BI-ohy36rM-3"
      },
      "source": [
        "# Selecting data of just one plant\n",
        "plant_1 = data.loc[[1]]\n",
        "plant_2 = data.loc[[2]]\n",
        "\n",
        "# Converting pd dataframe to a matrix\n",
        "sets = {\"train\": np.asmatrix(plant_1), \"test\": np.asmatrix(plant_2)}"
      ],
      "execution_count": 38,
      "outputs": []
    },
    {
      "cell_type": "code",
      "metadata": {
        "id": "vQHk8-9cpngU",
        "outputId": "bc274810-b55a-43f3-af3f-6b5956b08d0c",
        "colab": {
          "base_uri": "https://localhost:8080/",
          "height": 119
        }
      },
      "source": [
        "# Creating a data structure with 90 timestamps and 1 output\n",
        "X = {\"train\": [], \"test\": []}\n",
        "y = {\"train\": [], \"test\": []}\n",
        "\n",
        "# Number of hours we want top predict into the future\n",
        "n_future = 4  \n",
        "# Number of past hours we want to use to predict the future\n",
        "n_past = 24     \n",
        "\n",
        "# Creating the train and test sets \n",
        "# e.g. with timestamps 0-23 we are going to predict the timestamps 24-27, \n",
        "# then with timestamps 1-24 we are going to predict the timestamps 25-28,  \n",
        "# until with timestamps 690-713 we are going to predict the timestamps 714-717.  \n",
        "for i in [\"train\", \"test\"]:\n",
        "  for j in range(n_past, len(sets[i]) - n_future + 1):\n",
        "      X[i].append(sets[i][j - n_past : j - 1, :])\n",
        "      y[i].append(sets[i][j : j + n_future - 1, 3:])\n",
        "  X[i], y[i] = np.array(X[i]), np.array(y[i])\n",
        "  print('X {} shape = {}.'.format(i, X[i].shape))\n",
        "  print('y {} shape = {}.'.format(i, y[i].shape))\n",
        "  print()"
      ],
      "execution_count": 41,
      "outputs": [
        {
          "output_type": "stream",
          "text": [
            "X train shape = (717, 23, 15).\n",
            "y train shape = (717, 3, 12).\n",
            "\n",
            "X test shape = (717, 23, 15).\n",
            "y test shape = (717, 3, 12).\n",
            "\n"
          ],
          "name": "stdout"
        }
      ]
    }
  ]
}